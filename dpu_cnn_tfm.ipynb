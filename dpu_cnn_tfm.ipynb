{
 "cells": [
  {
   "cell_type": "markdown",
   "metadata": {},
   "source": [
    "# DPU example: Resnet50\n",
    "----"
   ]
  },
  {
   "cell_type": "markdown",
   "metadata": {},
   "source": [
    "## Aim/s\n",
    "* This notebooks shows an example of DPU applications. The application,as well as the DPU IP, is pulled from the official \n",
    "[Vitis AI Github Repository](https://github.com/Xilinx/Vitis-AI).\n",
    "\n",
    "## References\n",
    "* [Vitis AI Github Repository](https://www.xilinx.com/products/design-tools/vitis/vitis-ai.html).\n",
    "\n",
    "## Last revised\n",
    "* Mar 3, 2021\n",
    "    * Initial revision\n",
    "----"
   ]
  },
  {
   "cell_type": "markdown",
   "metadata": {},
   "source": [
    "## 1. Prepare the overlay\n",
    "We will download the overlay onto the board. \n",
    "\n",
    "The `load_model()` method will automatically prepare the `graph`\n",
    "which is used by VART."
   ]
  },
  {
   "cell_type": "code",
   "execution_count": 1,
   "metadata": {},
   "outputs": [
    {
     "data": {
      "application/javascript": [
       "\n",
       "try {\n",
       "require(['notebook/js/codecell'], function(codecell) {\n",
       "  codecell.CodeCell.options_default.highlight_modes[\n",
       "      'magic_text/x-csrc'] = {'reg':[/^%%microblaze/]};\n",
       "  Jupyter.notebook.events.one('kernel_ready.Kernel', function(){\n",
       "      Jupyter.notebook.get_cells().map(function(cell){\n",
       "          if (cell.cell_type == 'code'){ cell.auto_highlight(); } }) ;\n",
       "  });\n",
       "});\n",
       "} catch (e) {};\n"
      ]
     },
     "metadata": {},
     "output_type": "display_data"
    },
    {
     "data": {
      "application/javascript": [
       "\n",
       "try {\n",
       "require(['notebook/js/codecell'], function(codecell) {\n",
       "  codecell.CodeCell.options_default.highlight_modes[\n",
       "      'magic_text/x-csrc'] = {'reg':[/^%%pybind11/]};\n",
       "  Jupyter.notebook.events.one('kernel_ready.Kernel', function(){\n",
       "      Jupyter.notebook.get_cells().map(function(cell){\n",
       "          if (cell.cell_type == 'code'){ cell.auto_highlight(); } }) ;\n",
       "  });\n",
       "});\n",
       "} catch (e) {};\n"
      ]
     },
     "metadata": {},
     "output_type": "display_data"
    }
   ],
   "source": [
    "from pynq_dpu import DpuOverlay\n",
    "overlay = DpuOverlay(\"dpu.bit\")\n",
    "overlay.load_model(\"mnist_classifier_TFM_v5.xmodel\")"
   ]
  },
  {
   "cell_type": "markdown",
   "metadata": {},
   "source": [
    "<div class=\"alert alert-heading alert-info\">\n",
    "Starting from Vitis AI 1.3, xmodel files will be used as the models\n",
    "instead of elf files.\n",
    "</div>"
   ]
  },
  {
   "cell_type": "markdown",
   "metadata": {},
   "source": [
    "## 2. Utility functions\n",
    "\n",
    "In this section, we will prepare a few functions for later use."
   ]
  },
  {
   "cell_type": "code",
   "execution_count": 2,
   "metadata": {},
   "outputs": [],
   "source": [
    "import os\n",
    "import time\n",
    "import numpy as np\n",
    "import cv2\n",
    "import matplotlib.pyplot as plt\n",
    "%matplotlib inline"
   ]
  },
  {
   "cell_type": "markdown",
   "metadata": {},
   "source": [
    "Let's first define a few useful preprocessing functions. These functions\n",
    "will make sure the DPU can take input images with arbitrary sizes."
   ]
  },
  {
   "cell_type": "code",
   "execution_count": 3,
   "metadata": {},
   "outputs": [],
   "source": [
    "_R_MEAN = 123.68\n",
    "_G_MEAN = 116.78\n",
    "_B_MEAN = 103.94\n",
    "\n",
    "MEANS = [_B_MEAN,_G_MEAN,_R_MEAN]\n",
    "\n",
    "def resize_shortest_edge(image, size):\n",
    "    H, W = image.shape[:2]\n",
    "    if H >= W:\n",
    "        nW = size\n",
    "        nH = int(float(H)/W * size)\n",
    "    else:\n",
    "        nH = size\n",
    "        nW = int(float(W)/H * size)\n",
    "    return cv2.resize(image,(nW,nH))\n",
    "\n",
    "def mean_image_subtraction(image, means):\n",
    "    B, G, R = cv2.split(image)\n",
    "    B = B - means[0]\n",
    "    G = G - means[1]\n",
    "    R = R - means[2]\n",
    "    image = cv2.merge([R, G, B])\n",
    "    return image\n",
    "\n",
    "def BGR2RGB(image):\n",
    "    B, G, R = cv2.split(image)\n",
    "    image = cv2.merge([R, G, B])\n",
    "    return image\n",
    "\n",
    "def central_crop(image, crop_height, crop_width):\n",
    "    image_height = image.shape[0]\n",
    "    image_width = image.shape[1]\n",
    "    offset_height = (image_height - crop_height) // 2\n",
    "    offset_width = (image_width - crop_width) // 2\n",
    "    return image[offset_height:offset_height + crop_height, offset_width:\n",
    "                 offset_width + crop_width, :]\n",
    "\n",
    "def normalize(image):\n",
    "    image=image/256.0\n",
    "    image=image-0.5\n",
    "    image=image*2\n",
    "    return image\n",
    "\n",
    "def preprocess_fn(image, crop_height = 32, crop_width = 32):\n",
    "    image = resize_shortest_edge(image, 32)\n",
    "    image = mean_image_subtraction(image, MEANS)\n",
    "    image = central_resize_shortest_edgecrop(image, crop_height, crop_width)\n",
    "    return image"
   ]
  },
  {
   "cell_type": "markdown",
   "metadata": {},
   "source": [
    "We will also define a few functions to calculate softmax and provide \n",
    "the output class after running a DPU task."
   ]
  },
  {
   "cell_type": "code",
   "execution_count": 4,
   "metadata": {},
   "outputs": [
    {
     "name": "stdout",
     "output_type": "stream",
     "text": [
      "0\n",
      "E\n",
      "A\n"
     ]
    }
   ],
   "source": [
    "softmax = [1, 0, 0, 0.55, 0]\n",
    "lines = ['A','B','C','D','E']\n",
    "print(np.argmax(softmax))\n",
    "print(lines[np.argmax(softmax)-1])\n",
    "print(lines[np.argmax(softmax)])\n"
   ]
  },
  {
   "cell_type": "code",
   "execution_count": 5,
   "metadata": {},
   "outputs": [],
   "source": [
    "def calculate_softmax(data):\n",
    "    result = np.exp(data)\n",
    "    return result\n",
    "\n",
    "# OJO el -1 esta mal. recorre la lista en orden inverso\n",
    "# y hace que el primer elemento sea el último\n",
    "\n",
    "#softmax = [1, 0, 0, 0.55, 0]\n",
    "#lines = ['A','B','C','D','E']\n",
    "#print(np.argmax(softmax))\n",
    "#print(lines[np.argmax(softmax)-1])\n",
    "#print(lines[np.argmax(softmax)])\n",
    "\n",
    "def predict_label(softmax):\n",
    "    with open(\"imagenes_test_DPU_2904/words.txt\", \"r\") as f:\n",
    "        lines = f.readlines()\n",
    "    #return lines[np.argmax(softmax)-1]\n",
    "    return lines[np.argmax(softmax)]"
   ]
  },
  {
   "cell_type": "markdown",
   "metadata": {},
   "source": [
    "Keep in mind that our original images are 640x480 so we need to preprocess them\n",
    "later to make sure it fits our model."
   ]
  },
  {
   "cell_type": "code",
   "execution_count": 6,
   "metadata": {},
   "outputs": [],
   "source": [
    "import re\n",
    "def sorted_alphanumeric(data):\n",
    "    convert = lambda text: int(text) if text.isdigit() else text.lower()\n",
    "    alphanum_key = lambda key: [ convert(c) for c in re.split('([0-9]+)', key) ] \n",
    "    return sorted(data, key=alphanum_key)"
   ]
  },
  {
   "cell_type": "code",
   "execution_count": 7,
   "metadata": {},
   "outputs": [
    {
     "name": "stdout",
     "output_type": "stream",
     "text": [
      "33626\n"
     ]
    }
   ],
   "source": [
    "image_folder = 'imagenes_test_DPU_2904'\n",
    "original_images = [i for i in sorted_alphanumeric(os.listdir(image_folder)) if i.endswith(\"png\")]\n",
    "total_images = len(original_images)\n",
    "print(len(original_images))"
   ]
  },
  {
   "cell_type": "markdown",
   "metadata": {},
   "source": [
    "## 3. Use VART\n",
    "Now we should be able to use VART to do image classification."
   ]
  },
  {
   "cell_type": "code",
   "execution_count": 8,
   "metadata": {},
   "outputs": [],
   "source": [
    "dpu = overlay.runner\n",
    "\n",
    "inputTensors = dpu.get_input_tensors()\n",
    "outputTensors = dpu.get_output_tensors()\n",
    "\n",
    "shapeIn = tuple(inputTensors[0].dims)\n",
    "shapeOut = tuple(outputTensors[0].dims)\n",
    "outputSize = int(outputTensors[0].get_data_size() / shapeIn[0])\n",
    "softmax = np.empty(outputSize)"
   ]
  },
  {
   "cell_type": "code",
   "execution_count": 9,
   "metadata": {},
   "outputs": [
    {
     "data": {
      "text/plain": [
       "[1, 5]"
      ]
     },
     "execution_count": 9,
     "metadata": {},
     "output_type": "execute_result"
    }
   ],
   "source": [
    "# Check que coincide con nClasses\n",
    "outputTensors[0].dims"
   ]
  },
  {
   "cell_type": "markdown",
   "metadata": {},
   "source": [
    "We can define a few buffers to store input and output data. They will be reused\n",
    "during multiple runs."
   ]
  },
  {
   "cell_type": "code",
   "execution_count": 10,
   "metadata": {},
   "outputs": [
    {
     "name": "stdout",
     "output_type": "stream",
     "text": [
      "(1, 32, 32, 1)\n"
     ]
    }
   ],
   "source": [
    "output_data = [np.empty(shapeOut, dtype=np.float32, order=\"C\")]\n",
    "input_data = [np.empty(shapeIn, dtype=np.float32, order=\"C\")]\n",
    "image = input_data[0]\n",
    "print(shapeIn)"
   ]
  },
  {
   "cell_type": "markdown",
   "metadata": {},
   "source": [
    "Remember that we have a list of `original_images`. \n",
    "We can now define a new function `run()` which takes the image index as \n",
    "the input, and calculate the softmax as the classification result.\n",
    "With the argument `display` set to `True`, the original image as well as the\n",
    "predicted label can be rendered.\n",
    "\n",
    "It is obvious that the range of `image_index` should be [0, `total_images`-1]."
   ]
  },
  {
   "cell_type": "code",
   "execution_count": 11,
   "metadata": {},
   "outputs": [],
   "source": [
    "def run(image_index, display=False):\n",
    "    #preprocessed = preprocess_fn(cv2.imread(os.path.join(image_folder, original_images[image_index])))\n",
    "    #preprocessed = plt.imread(os.path.join(image_folder, original_images[image_index]))\n",
    "    preprocessed = plt.imread(dir_img[image_index])\n",
    "    image[0,...] = preprocessed.reshape(shapeIn[1:])\n",
    "    job_id = dpu.execute_async(input_data, output_data)\n",
    "    dpu.wait(job_id)\n",
    "    temp = [j.reshape(1, outputSize) for j in output_data]\n",
    "    softmax = calculate_softmax(temp[0][0])\n",
    "    \n",
    "    # comentar cuando se haga test de latency\n",
    "    file.write(predict_label(softmax))\n",
    "    \n",
    "    if display:\n",
    "        #preprocessed = cv2.imread(os.path.join(image_folder, original_images[image_index]))\n",
    "        #display_image = cv2.imread(os.path.join(image_folder, original_images[image_index]))\n",
    "        #_, ax = plt.subplots(1)\n",
    "        #_ = ax.imshow(cv2.cvtColor(display_image, cv2.COLOR_BGR2RGB))\n",
    "        print(predict_label(softmax))\n",
    "        #print(\"Classification: {}\".format(predict_label(softmax)))\n",
    "        #print(image_index)\n",
    "        #print(original_images[image_index])"
   ]
  },
  {
   "cell_type": "markdown",
   "metadata": {},
   "source": [
    "Let's run it for 1 image and print out the predicted label."
   ]
  },
  {
   "cell_type": "code",
   "execution_count": 12,
   "metadata": {},
   "outputs": [
    {
     "name": "stdout",
     "output_type": "stream",
     "text": [
      "['1.png', '2.png', '3.png', '4.png', '5.png', '6.png', '7.png', '8.png', '9.png', '10.png']\n"
     ]
    }
   ],
   "source": [
    "print(original_images[0:10])"
   ]
  },
  {
   "cell_type": "markdown",
   "metadata": {},
   "source": [
    "We can also run it for multiple images as shown below. In this example\n",
    "we have only used 1 thread; in principle, users should be able to boost\n",
    "the performance by employing more threads."
   ]
  },
  {
   "cell_type": "code",
   "execution_count": 13,
   "metadata": {},
   "outputs": [],
   "source": [
    "file = open(\"labels_predict_DPU_2904.txt\",\"w\")"
   ]
  },
  {
   "cell_type": "code",
   "execution_count": 14,
   "metadata": {},
   "outputs": [],
   "source": [
    "# precargar array de direcciones de imagenes\n",
    "\n",
    "dir_img = []\n",
    "for i in range(total_images):\n",
    "    dir_img.append(os.path.join(image_folder, original_images[i]))\n",
    "    \n",
    "#print(dir_img[5])"
   ]
  },
  {
   "cell_type": "code",
   "execution_count": 15,
   "metadata": {},
   "outputs": [
    {
     "name": "stdout",
     "output_type": "stream",
     "text": [
      "Performance: 658.3805460416836 FPS\n",
      "Tiempo total: 51.07380557060242 [s]\n"
     ]
    }
   ],
   "source": [
    "time1 = time.time()\n",
    "[run(i) for i in range(total_images)]\n",
    "#[run(i,display=True) for i in range(5)]\n",
    "time2 = time.time()\n",
    "fps = total_images/(time2-time1)\n",
    "print(\"Performance: {} FPS\".format(fps))\n",
    "print(\"Tiempo total: {} [s]\".format(time2-time1))"
   ]
  },
  {
   "cell_type": "code",
   "execution_count": 16,
   "metadata": {},
   "outputs": [],
   "source": [
    "file.close()"
   ]
  },
  {
   "cell_type": "code",
   "execution_count": 17,
   "metadata": {},
   "outputs": [
    {
     "name": "stdout",
     "output_type": "stream",
     "text": [
      "0.6280259323142806\n"
     ]
    }
   ],
   "source": [
    "# Cargar labels test y calcular accuracy\n",
    "datos_labels_test = []\n",
    "with open('labels_test_2904.txt') as f:\n",
    "    for linea in f.readlines():\n",
    "        datos_labels_test.append(linea.strip())\n",
    "        \n",
    "\n",
    "datos_labels_DPU = []\n",
    "with open('labels_predict_DPU_2904.txt') as f:\n",
    "    for linea in f.readlines():\n",
    "        datos_labels_DPU.append(linea.strip())\n",
    "        \n",
    "suma = 0\n",
    "for i in range(len(datos_labels_DPU)):\n",
    "    if datos_labels_test[i] == datos_labels_DPU[i]:\n",
    "        suma = suma + 1\n",
    "\n",
    "total_test = suma/len(datos_labels_DPU) \n",
    "\n",
    "print(total_test)\n",
    "        "
   ]
  },
  {
   "cell_type": "code",
   "execution_count": 26,
   "metadata": {},
   "outputs": [
    {
     "name": "stdout",
     "output_type": "stream",
     "text": [
      "Chat\n",
      "\n",
      "33626\n",
      "Tiempo carga imagen: 0.0014162063598632812\n",
      "Tiempo proceso CNN imagen: 0.0007245540618896484\n",
      "Tiempo proceso CNN + calculo softmax: 0.0013904571533203125\n",
      "Tiempo proceso calculo softmax: 0.0006659030914306641\n",
      "Tiempo Total: 0.0028066635131835938\n",
      "Tiempo Total sin precargar imagenes: 7.986032724380493\n",
      "FPS sin precargar imagenes: 4210.601328660157\n"
     ]
    }
   ],
   "source": [
    "# Probar codigo Run():\n",
    "\n",
    "def run_sin_carga_img():\n",
    "    job_id = dpu.execute_async(input_data, output_data)\n",
    "    temp = [j.reshape(1, outputSize) for j in output_data]\n",
    "    softmax = calculate_softmax(temp[0][0])\n",
    "\n",
    "\n",
    "image_index = 1\n",
    "#preprocessed = preprocess_fn(cv2.imread(os.path.join(image_folder, original_images[image_index])))\n",
    "time1 = time.time()\n",
    "preprocessed = plt.imread(dir_img[image_index])\n",
    "image[0,...] = preprocessed.reshape(shapeIn[1:])\n",
    "time2 = time.time()\n",
    "job_id = dpu.execute_async(input_data, output_data)\n",
    "time3 = time.time()\n",
    "#dpu.wait(job_id)\n",
    "temp = [j.reshape(1, outputSize) for j in output_data]\n",
    "softmax = calculate_softmax(temp[0][0])\n",
    "time4 = time.time()\n",
    "print(predict_label(softmax))\n",
    "\n",
    "# Ejecutar run sin precargar imagenes (no llama imread())\n",
    "time5 = time.time()\n",
    "[run_sin_carga_img() for i in range(total_images)]\n",
    "time6 = time.time()\n",
    "\n",
    "print(total_images)\n",
    "\n",
    "print(\"Tiempo carga imagen:\", time2-time1)\n",
    "print(\"Tiempo proceso CNN imagen:\", time3-time2)\n",
    "print(\"Tiempo proceso CNN + calculo softmax:\", time4-time2)\n",
    "print(\"Tiempo proceso calculo softmax:\", time4-time3)\n",
    "print(\"Tiempo Total:\",time4-time1)\n",
    "print(\"Tiempo Total sin precargar imagenes:\",time6-time5)\n",
    "print(\"FPS sin precargar imagenes:\",total_images/(time6-time5))\n"
   ]
  },
  {
   "cell_type": "code",
   "execution_count": null,
   "metadata": {},
   "outputs": [],
   "source": [
    "print(len(datos_labels_test))"
   ]
  }
 ],
 "metadata": {
  "kernelspec": {
   "display_name": "Python 3",
   "language": "python",
   "name": "python3"
  },
  "language_info": {
   "codemirror_mode": {
    "name": "ipython",
    "version": 3
   },
   "file_extension": ".py",
   "mimetype": "text/x-python",
   "name": "python",
   "nbconvert_exporter": "python",
   "pygments_lexer": "ipython3",
   "version": "3.6.5"
  }
 },
 "nbformat": 4,
 "nbformat_minor": 4
}
